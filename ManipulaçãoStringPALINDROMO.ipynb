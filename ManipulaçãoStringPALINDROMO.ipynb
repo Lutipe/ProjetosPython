{
  "nbformat": 4,
  "nbformat_minor": 0,
  "metadata": {
    "colab": {
      "provenance": [],
      "authorship_tag": "ABX9TyM7SXF3cr/VvJuZx4ty0ELV",
      "include_colab_link": true
    },
    "kernelspec": {
      "name": "python3",
      "display_name": "Python 3"
    },
    "language_info": {
      "name": "python"
    }
  },
  "cells": [
    {
      "cell_type": "markdown",
      "metadata": {
        "id": "view-in-github",
        "colab_type": "text"
      },
      "source": [
        "<a href=\"https://colab.research.google.com/github/Lutipe/ProjetosPython/blob/main/Manipula%C3%A7%C3%A3oStringPALINDROMO.ipynb\" target=\"_parent\"><img src=\"https://colab.research.google.com/assets/colab-badge.svg\" alt=\"Open In Colab\"/></a>"
      ]
    },
    {
      "cell_type": "code",
      "execution_count": 7,
      "metadata": {
        "colab": {
          "base_uri": "https://localhost:8080/"
        },
        "id": "skng3N7LSq5H",
        "outputId": "9a625b8b-8c17-4c73-fb0a-8726507cbc10"
      },
      "outputs": [
        {
          "output_type": "stream",
          "name": "stdout",
          "text": [
            "Digite uma palvraOvo\n",
            "OVO\n",
            "a palavra é um palindromo\n"
          ]
        }
      ],
      "source": [
        "palavra = str(input(\"Digite uma palvra\")).upper().strip()\n",
        "inverso = palavra[::-1]\n",
        "print(inverso)\n",
        "if inverso == palavra:\n",
        "  print(\"a palavra é um palindromo\")\n",
        "else:\n",
        "  print(\"Não é um palindromo\")\n",
        "\n"
      ]
    }
  ]
}