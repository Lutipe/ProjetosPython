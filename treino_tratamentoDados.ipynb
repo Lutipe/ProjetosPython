{
  "nbformat": 4,
  "nbformat_minor": 0,
  "metadata": {
    "colab": {
      "provenance": [],
      "authorship_tag": "ABX9TyO9LK4/GFjaBmHiCjw41Ci5",
      "include_colab_link": true
    },
    "kernelspec": {
      "name": "python3",
      "display_name": "Python 3"
    },
    "language_info": {
      "name": "python"
    }
  },
  "cells": [
    {
      "cell_type": "markdown",
      "metadata": {
        "id": "view-in-github",
        "colab_type": "text"
      },
      "source": [
        "<a href=\"https://colab.research.google.com/github/Lutipe/ProjetosPython/blob/main/treino_tratamentoDados.ipynb\" target=\"_parent\"><img src=\"https://colab.research.google.com/assets/colab-badge.svg\" alt=\"Open In Colab\"/></a>"
      ]
    },
    {
      "cell_type": "code",
      "execution_count": 1,
      "metadata": {
        "id": "0kyBH94Fsw83"
      },
      "outputs": [],
      "source": [
        "import pandas as pd\n",
        "import seaborn as srn\n",
        "import statistics as sts\n",
        "from seaborn import boxplot\n"
      ]
    },
    {
      "cell_type": "code",
      "source": [
        "dataset = pd.read_csv(\"tempo.csv\", sep=\";\")"
      ],
      "metadata": {
        "id": "dBEFtISRu4HQ"
      },
      "execution_count": null,
      "outputs": []
    },
    {
      "cell_type": "code",
      "source": [
        "dataset.head()"
      ],
      "metadata": {
        "id": "a7Dpsvc6vMzZ"
      },
      "execution_count": null,
      "outputs": []
    },
    {
      "cell_type": "code",
      "source": [
        "agrupado = dataset.groupby([\"Temperatura\"]).size()\n",
        "print(agrupado)"
      ],
      "metadata": {
        "id": "foU-SDbUvOvc"
      },
      "execution_count": null,
      "outputs": []
    },
    {
      "cell_type": "code",
      "source": [
        "agrupado.plot.bar(color =\"blue\")"
      ],
      "metadata": {
        "id": "tuF2xH_XvOzr"
      },
      "execution_count": null,
      "outputs": []
    },
    {
      "cell_type": "code",
      "source": [
        "dataset.isnull().sum()"
      ],
      "metadata": {
        "id": "ZRrVQ4uyvO3H"
      },
      "execution_count": null,
      "outputs": []
    },
    {
      "cell_type": "code",
      "source": [
        "agrupado = dataset.groupby([\"Aparencia\"]).size()\n",
        "print(agrupado)"
      ],
      "metadata": {
        "id": "xD-HqgMGvO8i"
      },
      "execution_count": null,
      "outputs": []
    },
    {
      "cell_type": "code",
      "source": [
        "dataset.loc[dataset[\"Aparencia\"]==\"menos\", \"Aparencia\"] = \"sol\""
      ],
      "metadata": {
        "id": "wPnMUyNDvURo"
      },
      "execution_count": null,
      "outputs": []
    },
    {
      "cell_type": "code",
      "source": [
        "agrupado = dataset.groupby([\"Aparencia\"]).size()\n",
        "print(agrupado)"
      ],
      "metadata": {
        "id": "gCoczt0pvUUQ"
      },
      "execution_count": null,
      "outputs": []
    },
    {
      "cell_type": "code",
      "source": [
        "dataset[\"Temperatura\"].describe()"
      ],
      "metadata": {
        "id": "hKbSafTYvUXe"
      },
      "execution_count": null,
      "outputs": []
    },
    {
      "cell_type": "code",
      "source": [
        "srn.boxplot(dataset[\"Temperatura\"]).set_title(\"Temperatura\")"
      ],
      "metadata": {
        "id": "OFUoCWOLvZBi"
      },
      "execution_count": null,
      "outputs": []
    },
    {
      "cell_type": "code",
      "source": [
        "mediana = sts.median(dataset[\"Temperatura\"])\n",
        "print(mediana)"
      ],
      "metadata": {
        "id": "iqhiCdAkvZHs"
      },
      "execution_count": null,
      "outputs": []
    },
    {
      "cell_type": "code",
      "source": [
        "dataset.loc[(dataset[\"Temperatura\"] < -130) | (dataset[\"Temperatura\"] > 130), \"Temperatura\"] = mediana"
      ],
      "metadata": {
        "id": "uf2UnowDvZKj"
      },
      "execution_count": null,
      "outputs": []
    },
    {
      "cell_type": "code",
      "source": [
        "dataset[\"Temperatura\"].describe()"
      ],
      "metadata": {
        "id": "gVm2GihwvePx"
      },
      "execution_count": null,
      "outputs": []
    },
    {
      "cell_type": "code",
      "source": [
        "dataset[\"Umidade\"].describe()"
      ],
      "metadata": {
        "id": "CKvHY8EKvfgr"
      },
      "execution_count": null,
      "outputs": []
    },
    {
      "cell_type": "code",
      "source": [
        "mediana = sts.median(dataset[\"Umidade\"])\n",
        "print(mediana)"
      ],
      "metadata": {
        "id": "AL5NOz_wvgGw"
      },
      "execution_count": null,
      "outputs": []
    },
    {
      "cell_type": "code",
      "source": [
        "dataset.loc[(dataset[\"Umidade\"] < 0) | (dataset[\"Umidade\"] > 100), \"Umidade\"] = mediana"
      ],
      "metadata": {
        "id": "JjgckLEzvgJQ"
      },
      "execution_count": null,
      "outputs": []
    },
    {
      "cell_type": "code",
      "source": [
        "dataset[\"Umidade\"].describe()"
      ],
      "metadata": {
        "id": "QCpWxxYfvgLn"
      },
      "execution_count": null,
      "outputs": []
    },
    {
      "cell_type": "code",
      "source": [
        "dataset[\"Umidade\"].fillna(mediana, inplace = True)"
      ],
      "metadata": {
        "id": "wME3_QArvlXX"
      },
      "execution_count": null,
      "outputs": []
    },
    {
      "cell_type": "code",
      "source": [
        "dataset[\"Umidade\"].isnull().sum()"
      ],
      "metadata": {
        "id": "O7UqhNi6vlZy"
      },
      "execution_count": null,
      "outputs": []
    },
    {
      "cell_type": "code",
      "source": [
        "agrupado = dataset.groupby([\"Vento\"]).size()\n",
        "print(agrupado)"
      ],
      "metadata": {
        "id": "1d0jNLWjvlcB"
      },
      "execution_count": null,
      "outputs": []
    },
    {
      "cell_type": "code",
      "source": [
        "dataset[\"Vento\"].fillna(\"FALSO\", inplace = True)"
      ],
      "metadata": {
        "id": "OHJWv4Y9vleR"
      },
      "execution_count": null,
      "outputs": []
    },
    {
      "cell_type": "code",
      "source": [
        "agrupado = dataset.groupby([\"Vento\"]).size()\n",
        "print(agrupado)"
      ],
      "metadata": {
        "id": "umh24HiGvo7J"
      },
      "execution_count": null,
      "outputs": []
    },
    {
      "cell_type": "code",
      "source": [
        "agrupado = dataset.groupby([\"Jogar\"]).size()\n",
        "print(agrupado)"
      ],
      "metadata": {
        "id": "-86fFv8Vvo9u"
      },
      "execution_count": null,
      "outputs": []
    },
    {
      "cell_type": "code",
      "source": [
        "dataset.isnull().sum()"
      ],
      "metadata": {
        "id": "zpqtuOFZvpB2"
      },
      "execution_count": null,
      "outputs": []
    },
    {
      "cell_type": "code",
      "source": [],
      "metadata": {
        "id": "eVdo5lrrvpEe"
      },
      "execution_count": null,
      "outputs": []
    },
    {
      "cell_type": "code",
      "source": [],
      "metadata": {
        "id": "QE8N7U9RvpHC"
      },
      "execution_count": null,
      "outputs": []
    }
  ]
}