{
  "nbformat": 4,
  "nbformat_minor": 0,
  "metadata": {
    "colab": {
      "provenance": [],
      "authorship_tag": "ABX9TyNdmuwmqIxjgoHZvghF0EMb",
      "include_colab_link": true
    },
    "kernelspec": {
      "name": "python3",
      "display_name": "Python 3"
    },
    "language_info": {
      "name": "python"
    }
  },
  "cells": [
    {
      "cell_type": "markdown",
      "metadata": {
        "id": "view-in-github",
        "colab_type": "text"
      },
      "source": [
        "<a href=\"https://colab.research.google.com/github/Lutipe/SistemaBancarioPython/blob/main/sistemabancariotreino.ipynb\" target=\"_parent\"><img src=\"https://colab.research.google.com/assets/colab-badge.svg\" alt=\"Open In Colab\"/></a>"
      ]
    },
    {
      "cell_type": "code",
      "execution_count": null,
      "metadata": {
        "id": "IUoSdBSpUS93",
        "colab": {
          "base_uri": "https://localhost:8080/",
          "height": 894
        },
        "outputId": "1e853b2d-06b6-4a42-91f5-6d4d6d3a0b12"
      },
      "outputs": [
        {
          "output_type": "stream",
          "name": "stdout",
          "text": [
            "Bom dia! Qual operação deseja realizar?\n",
            "1. Depositar\n",
            "2. Sacar\n",
            "3. Ver extrato\n",
            "4. Sair\n",
            ": 1\n",
            "Digite o valor que deseja depositar: 10\n",
            "Depósito no valor de R$10 realizado com sucesso!\n",
            "Bom dia! Qual operação deseja realizar?\n",
            "1. Depositar\n",
            "2. Sacar\n",
            "3. Ver extrato\n",
            "4. Sair\n",
            ": 2\n",
            "São permitidos 3 saques por dia no valor de até R$500.\n",
            "Digite o valor que deseja sacar: 3\n",
            "Saque de R$3 realizado com sucesso!\n",
            "Bom dia! Qual operação deseja realizar?\n",
            "1. Depositar\n",
            "2. Sacar\n",
            "3. Ver extrato\n",
            "4. Sair\n",
            ": 3\n",
            "Sua conta tem R$7.00\n",
            "Você fez 1 depósitos: [10]\n",
            "Você realizou 1 saques hoje\n",
            "Bom dia! Qual operação deseja realizar?\n",
            "1. Depositar\n",
            "2. Sacar\n",
            "3. Ver extrato\n",
            "4. Sair\n"
          ]
        },
        {
          "output_type": "error",
          "ename": "KeyboardInterrupt",
          "evalue": "Interrupted by user",
          "traceback": [
            "\u001b[0;31m---------------------------------------------------------------------------\u001b[0m",
            "\u001b[0;31mKeyboardInterrupt\u001b[0m                         Traceback (most recent call last)",
            "\u001b[0;32m<ipython-input-2-6a08bcda9253>\u001b[0m in \u001b[0;36m<cell line: 7>\u001b[0;34m()\u001b[0m\n\u001b[1;32m     11\u001b[0m     \u001b[0mprint\u001b[0m\u001b[0;34m(\u001b[0m\u001b[0;34m'3. Ver extrato'\u001b[0m\u001b[0;34m)\u001b[0m\u001b[0;34m\u001b[0m\u001b[0;34m\u001b[0m\u001b[0m\n\u001b[1;32m     12\u001b[0m     \u001b[0mprint\u001b[0m\u001b[0;34m(\u001b[0m\u001b[0;34m'4. Sair'\u001b[0m\u001b[0;34m)\u001b[0m\u001b[0;34m\u001b[0m\u001b[0;34m\u001b[0m\u001b[0m\n\u001b[0;32m---> 13\u001b[0;31m     \u001b[0mope\u001b[0m \u001b[0;34m=\u001b[0m \u001b[0mint\u001b[0m\u001b[0;34m(\u001b[0m\u001b[0minput\u001b[0m\u001b[0;34m(\u001b[0m\u001b[0;34m': '\u001b[0m\u001b[0;34m)\u001b[0m\u001b[0;34m)\u001b[0m\u001b[0;34m\u001b[0m\u001b[0;34m\u001b[0m\u001b[0m\n\u001b[0m\u001b[1;32m     14\u001b[0m \u001b[0;34m\u001b[0m\u001b[0m\n\u001b[1;32m     15\u001b[0m     \u001b[0;32mif\u001b[0m \u001b[0mope\u001b[0m \u001b[0;34m==\u001b[0m \u001b[0;36m1\u001b[0m\u001b[0;34m:\u001b[0m\u001b[0;34m\u001b[0m\u001b[0;34m\u001b[0m\u001b[0m\n",
            "\u001b[0;32m/usr/local/lib/python3.10/dist-packages/ipykernel/kernelbase.py\u001b[0m in \u001b[0;36mraw_input\u001b[0;34m(self, prompt)\u001b[0m\n\u001b[1;32m    849\u001b[0m                 \u001b[0;34m\"raw_input was called, but this frontend does not support input requests.\"\u001b[0m\u001b[0;34m\u001b[0m\u001b[0;34m\u001b[0m\u001b[0m\n\u001b[1;32m    850\u001b[0m             )\n\u001b[0;32m--> 851\u001b[0;31m         return self._input_request(str(prompt),\n\u001b[0m\u001b[1;32m    852\u001b[0m             \u001b[0mself\u001b[0m\u001b[0;34m.\u001b[0m\u001b[0m_parent_ident\u001b[0m\u001b[0;34m,\u001b[0m\u001b[0;34m\u001b[0m\u001b[0;34m\u001b[0m\u001b[0m\n\u001b[1;32m    853\u001b[0m             \u001b[0mself\u001b[0m\u001b[0;34m.\u001b[0m\u001b[0m_parent_header\u001b[0m\u001b[0;34m,\u001b[0m\u001b[0;34m\u001b[0m\u001b[0;34m\u001b[0m\u001b[0m\n",
            "\u001b[0;32m/usr/local/lib/python3.10/dist-packages/ipykernel/kernelbase.py\u001b[0m in \u001b[0;36m_input_request\u001b[0;34m(self, prompt, ident, parent, password)\u001b[0m\n\u001b[1;32m    893\u001b[0m             \u001b[0;32mexcept\u001b[0m \u001b[0mKeyboardInterrupt\u001b[0m\u001b[0;34m:\u001b[0m\u001b[0;34m\u001b[0m\u001b[0;34m\u001b[0m\u001b[0m\n\u001b[1;32m    894\u001b[0m                 \u001b[0;31m# re-raise KeyboardInterrupt, to truncate traceback\u001b[0m\u001b[0;34m\u001b[0m\u001b[0;34m\u001b[0m\u001b[0m\n\u001b[0;32m--> 895\u001b[0;31m                 \u001b[0;32mraise\u001b[0m \u001b[0mKeyboardInterrupt\u001b[0m\u001b[0;34m(\u001b[0m\u001b[0;34m\"Interrupted by user\"\u001b[0m\u001b[0;34m)\u001b[0m \u001b[0;32mfrom\u001b[0m \u001b[0;32mNone\u001b[0m\u001b[0;34m\u001b[0m\u001b[0;34m\u001b[0m\u001b[0m\n\u001b[0m\u001b[1;32m    896\u001b[0m             \u001b[0;32mexcept\u001b[0m \u001b[0mException\u001b[0m \u001b[0;32mas\u001b[0m \u001b[0me\u001b[0m\u001b[0;34m:\u001b[0m\u001b[0;34m\u001b[0m\u001b[0;34m\u001b[0m\u001b[0m\n\u001b[1;32m    897\u001b[0m                 \u001b[0mself\u001b[0m\u001b[0;34m.\u001b[0m\u001b[0mlog\u001b[0m\u001b[0;34m.\u001b[0m\u001b[0mwarning\u001b[0m\u001b[0;34m(\u001b[0m\u001b[0;34m\"Invalid Message:\"\u001b[0m\u001b[0;34m,\u001b[0m \u001b[0mexc_info\u001b[0m\u001b[0;34m=\u001b[0m\u001b[0;32mTrue\u001b[0m\u001b[0;34m)\u001b[0m\u001b[0;34m\u001b[0m\u001b[0;34m\u001b[0m\u001b[0m\n",
            "\u001b[0;31mKeyboardInterrupt\u001b[0m: Interrupted by user"
          ]
        }
      ],
      "source": [
        "saque = 0\n",
        "dinheiro = 0\n",
        "ope = 0\n",
        "deposito = 0\n",
        "valor = []\n",
        "\n",
        "while ope != 4:\n",
        "    print('Bom dia! Qual operação deseja realizar?')\n",
        "    print('1. Depositar')\n",
        "    print('2. Sacar')\n",
        "    print('3. Ver extrato')\n",
        "    print('4. Sair')\n",
        "    ope = int(input(': '))\n",
        "\n",
        "    if ope == 1:\n",
        "        ValorDeposito = int(input('Digite o valor que deseja depositar: '))\n",
        "        if ValorDeposito > 0:\n",
        "            dinheiro += ValorDeposito\n",
        "            deposito += 1\n",
        "            valor.append(ValorDeposito)\n",
        "            print(f'Depósito no valor de R${ValorDeposito} realizado com sucesso!')\n",
        "        else:\n",
        "            print('ERRO: Valor inválido')\n",
        "\n",
        "    elif ope == 2:\n",
        "        if dinheiro > 0:\n",
        "            if saque < 3:\n",
        "                print('São permitidos 3 saques por dia no valor de até R$500.')\n",
        "                valsa = int(input('Digite o valor que deseja sacar: '))\n",
        "                if valsa <= dinheiro and valsa <= 500:\n",
        "                    dinheiro -= valsa\n",
        "                    saque += 1\n",
        "                    print(f'Saque de R${valsa} realizado com sucesso!')\n",
        "                else:\n",
        "                    print('Valor inválido! O saque deve ser menor ou igual a R$500 e ao saldo disponível.')\n",
        "            else:\n",
        "                print('LIMITE DE SAQUES EXCEDIDO')\n",
        "        else:\n",
        "            print('Sem saldo suficiente para sacar')\n",
        "\n",
        "    elif ope == 3:\n",
        "        print(f'Sua conta tem R${dinheiro:.2f}')\n",
        "        print(f'Você fez {deposito} depósitos: {valor}')\n",
        "        print(f'Você realizou {saque} saques hoje')\n",
        "\n",
        "    elif ope != 4:\n",
        "        print('Opção inválida! Tente novamente.')\n",
        "\n",
        "print('Obrigado por utilizar nosso sistema bancário!')"
      ]
    },
    {
      "cell_type": "code",
      "source": [],
      "metadata": {
        "id": "sYXgwszfUTdf"
      },
      "execution_count": null,
      "outputs": []
    }
  ]
}